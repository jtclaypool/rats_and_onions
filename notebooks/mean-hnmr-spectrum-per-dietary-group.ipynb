{
 "cells": [
  {
   "cell_type": "markdown",
   "metadata": {},
   "source": [
    "# Mean HNMR spectrum per dietary group"
   ]
  },
  {
   "cell_type": "code",
   "execution_count": null,
   "metadata": {},
   "outputs": [],
   "source": [
    "from matplotlib import pyplot as plt\n",
    "\n",
    "from massholes.loader import loader"
   ]
  },
  {
   "cell_type": "code",
   "execution_count": null,
   "metadata": {},
   "outputs": [],
   "source": [
    "hnmr_spectra = loader('../data/rats-and-onions.xls')\n",
    "hnmr_spectra, target = hnmr_spectra.drop(columns=['treatment']).set_index('index').T, hnmr_spectra['treatment']\n",
    "hnmr_spectra"
   ]
  },
  {
   "cell_type": "code",
   "execution_count": null,
   "metadata": {
    "scrolled": false
   },
   "outputs": [],
   "source": [
    "treatment_groups = (\n",
    "    hnmr_spectra\n",
    "    .T\n",
    "    .groupby(target.values)\n",
    ")\n",
    "\n",
    "fig, axes = plt.subplots(len(treatment_groups), figsize=(10, 8))\n",
    "\n",
    "for idx, (treatment, treatment_group) in enumerate(treatment_groups):\n",
    "    ax = axes[idx]\n",
    "    (\n",
    "        treatment_group\n",
    "        .mean()\n",
    "        .plot(label='', ax=ax)\n",
    "    )\n",
    "    ax.set_xlim([10, 0])\n",
    "    ax.set_ylim([0, 50_000])\n",
    "    ax.set_xticks([])\n",
    "    ax.set_xlabel('')\n",
    "    ax.set_title(f'treatment group {treatment}')\n",
    "    \n",
    "axes[-1].set_xticks(list(range(10, 0, -1)))\n",
    "axes[-1].set_xlabel('frequency')\n",
    "\n",
    "fig.tight_layout()"
   ]
  }
 ],
 "metadata": {
  "kernelspec": {
   "display_name": "Python 3",
   "language": "python",
   "name": "python3"
  },
  "language_info": {
   "codemirror_mode": {
    "name": "ipython",
    "version": 3
   },
   "file_extension": ".py",
   "mimetype": "text/x-python",
   "name": "python",
   "nbconvert_exporter": "python",
   "pygments_lexer": "ipython3",
   "version": "3.7.5"
  }
 },
 "nbformat": 4,
 "nbformat_minor": 2
}
